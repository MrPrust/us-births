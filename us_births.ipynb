{
 "cells": [
  {
   "cell_type": "markdown",
   "metadata": {},
   "source": [
    "**I was given two files; `US_births_1994-2003_CDC_NCHS.csv`, and `US_births_2000-2014_SSA.csv`. The first file contains the total number of births in the United States from 1994-2003 according to the Center for Disease Control. The second file contains the total number of births in the United States from 2003-2013 according to the Social Security Agency. Let's see if we can find something interesting here.**\n",
    "\n",
    "# 1) Open the files, make them useful"
   ]
  },
  {
   "cell_type": "code",
   "execution_count": 46,
   "metadata": {
    "collapsed": false
   },
   "outputs": [],
   "source": [
    "def read_csv(file_name):\n",
    "    f = open(file_name,'r')\n",
    "    data = f.read()\n",
    "    split_list = data.split('\\n')\n",
    "    string_list = split_list[1:len(split_list)]\n",
    "    final_list = []\n",
    "    for each in string_list:\n",
    "        int_fields = []\n",
    "        string_fields = each.split(',')\n",
    "        for every in string_fields:\n",
    "            int_fields.append(int(every))\n",
    "            final_list.append(int_fields)\n",
    "    return final_list"
   ]
  },
  {
   "cell_type": "code",
   "execution_count": 47,
   "metadata": {
    "collapsed": false
   },
   "outputs": [],
   "source": [
    "def combine_data(csv_1, csv_2):\n",
    "    data_set_1 = read_csv(csv_1)\n",
    "    data_set_2 = read_csv(csv_2)\n",
    "    third_dict = {}\n",
    "    \n",
    "    first_dict = {}\n",
    "    for item in data_set_1:\n",
    "        key_1 = item[0], item[1], item[2], item[3]\n",
    "        value_1 = item[4]\n",
    "        first_dict[key_1] = value_1\n",
    "        third_dict.update(first_dict)\n",
    "    \n",
    "    second_dict = {}\n",
    "    for row in data_set_2:\n",
    "        key_2 = row[0], row[1], row[2], row[3]\n",
    "        value_2 = row[4]\n",
    "        second_dict[key_2] = value_2\n",
    "        third_dict.update(second_dict)\n",
    "    \n",
    "    for key in first_dict:\n",
    "        if key in second_dict:\n",
    "            val_1 = first_dict[key]\n",
    "            val_2 = second_dict[key]\n",
    "            avg = int((int(val_1) + int(val_2)) / 2)\n",
    "            third_dict[key] = avg\n",
    "            \n",
    "    aggregated_lst = []\n",
    "    for entries in third_dict:\n",
    "        temp_list = list(entries)\n",
    "        temp_list.append(third_dict[entries])\n",
    "        aggregated_lst.append(temp_list)\n",
    "        \n",
    "    sort_aggr = sorted(aggregated_lst)\n",
    "    \n",
    "    return sort_aggr"
   ]
  },
  {
   "cell_type": "code",
   "execution_count": 48,
   "metadata": {
    "collapsed": false
   },
   "outputs": [
    {
     "data": {
      "text/plain": [
       "[[1994, 1, 1, 6, 8096],\n",
       " [1994, 1, 2, 7, 7772],\n",
       " [1994, 1, 3, 1, 10142],\n",
       " [1994, 1, 4, 2, 11248],\n",
       " [1994, 1, 5, 3, 11053],\n",
       " [1994, 1, 6, 4, 11406],\n",
       " [1994, 1, 7, 5, 11251],\n",
       " [1994, 1, 8, 6, 8653],\n",
       " [1994, 1, 9, 7, 7910],\n",
       " [1994, 1, 10, 1, 10498]]"
      ]
     },
     "execution_count": 48,
     "metadata": {},
     "output_type": "execute_result"
    }
   ],
   "source": [
    "final_data = combine_data('US_births_1994-2003_CDC_NCHS.csv','US_births_2000-2014_SSA.csv')\n",
    "final_data[0:10]"
   ]
  },
  {
   "cell_type": "markdown",
   "metadata": {},
   "source": [
    "# 3) Use it\n",
    "\n",
    "## How many births are we talking about?\n",
    "\n",
    "85,549,129 new humans from 1993-2013"
   ]
  },
  {
   "cell_type": "code",
   "execution_count": 49,
   "metadata": {
    "collapsed": false
   },
   "outputs": [
    {
     "data": {
      "text/plain": [
       "85549129"
      ]
     },
     "execution_count": 49,
     "metadata": {},
     "output_type": "execute_result"
    }
   ],
   "source": [
    "def sum_list_index(input_list, index):\n",
    "    total = 0\n",
    "    for each in input_list:\n",
    "        total = total + each[index]\n",
    "    return total\n",
    "\n",
    "total_births = sum_list_index(final_data, 4)\n",
    "total_births"
   ]
  },
  {
   "cell_type": "markdown",
   "metadata": {},
   "source": [
    "## What else can we find here?\n",
    "\n",
    "Let's create a few lists to see the total number of births per variable; year, month, day of month (dom), and day of week (dow).\n",
    "\n",
    "Here are two functions, `month_births` and `dow_births`, that calculate the total number of births for a specific variable, like months and days of the week,"
   ]
  },
  {
   "cell_type": "code",
   "execution_count": 43,
   "metadata": {
    "collapsed": false
   },
   "outputs": [],
   "source": [
    "def month_births(data):\n",
    "    births_per_month = {}\n",
    "    for days in data:\n",
    "        month = days[1]\n",
    "        births = days[4]\n",
    "        if month in births_per_month:\n",
    "            births_per_month[month] = births_per_month[month] + births\n",
    "        else:\n",
    "            births_per_month[month] = births\n",
    "    return births_per_month"
   ]
  },
  {
   "cell_type": "code",
   "execution_count": 44,
   "metadata": {
    "collapsed": false
   },
   "outputs": [],
   "source": [
    "def dow_births(data):\n",
    "    births_per_day_of_week = {}\n",
    "    for days in data:\n",
    "        day = days[3]\n",
    "        births = days[4]\n",
    "        if day in births_per_day_of_week:\n",
    "            births_per_day_of_week[day] = births_per_day_of_week[day] + births\n",
    "        else:\n",
    "            births_per_day_of_week[day] = births\n",
    "    return births_per_day_of_week"
   ]
  },
  {
   "cell_type": "markdown",
   "metadata": {},
   "source": [
    "...but this method, `calc_counts`, is better because it uses one function to determine total births for any variable."
   ]
  },
  {
   "cell_type": "code",
   "execution_count": 80,
   "metadata": {
    "collapsed": false
   },
   "outputs": [],
   "source": [
    "def calc_counts(data,column):\n",
    "    births_per_variable = {}\n",
    "    for days in data:\n",
    "        variable = days[column]\n",
    "        births = days[4]\n",
    "        if variable in births_per_variable:\n",
    "            births_per_variable[variable] = births_per_variable[variable] + births\n",
    "        else:\n",
    "            births_per_variable[variable] = births\n",
    "    return births_per_variable"
   ]
  },
  {
   "cell_type": "markdown",
   "metadata": {},
   "source": [
    "**Total births per year**"
   ]
  },
  {
   "cell_type": "code",
   "execution_count": 81,
   "metadata": {
    "collapsed": false
   },
   "outputs": [
    {
     "data": {
      "text/plain": [
       "{1994: 3952767,\n",
       " 1995: 3899589,\n",
       " 1996: 3891494,\n",
       " 1997: 3880894,\n",
       " 1998: 3941553,\n",
       " 1999: 3959417,\n",
       " 2000: 4104119,\n",
       " 2001: 4068359,\n",
       " 2002: 4060428,\n",
       " 2003: 4126419,\n",
       " 2004: 4186863,\n",
       " 2005: 4211941,\n",
       " 2006: 4335154,\n",
       " 2007: 4380784,\n",
       " 2008: 4310737,\n",
       " 2009: 4190991,\n",
       " 2010: 4055975,\n",
       " 2011: 4006908,\n",
       " 2012: 4000868,\n",
       " 2013: 3973337,\n",
       " 2014: 4010532}"
      ]
     },
     "execution_count": 81,
     "metadata": {},
     "output_type": "execute_result"
    }
   ],
   "source": [
    "total_year_births = calc_counts(final_data, 0)\n",
    "total_year_births"
   ]
  },
  {
   "cell_type": "markdown",
   "metadata": {},
   "source": [
    "**Total births per month**"
   ]
  },
  {
   "cell_type": "code",
   "execution_count": 82,
   "metadata": {
    "collapsed": false
   },
   "outputs": [
    {
     "data": {
      "text/plain": [
       "{1: 6965310,\n",
       " 2: 6499459,\n",
       " 3: 7134617,\n",
       " 4: 6838762,\n",
       " 5: 7162927,\n",
       " 6: 7110295,\n",
       " 7: 7514008,\n",
       " 8: 7610244,\n",
       " 9: 7425952,\n",
       " 10: 7278923,\n",
       " 11: 6869491,\n",
       " 12: 7139141}"
      ]
     },
     "execution_count": 82,
     "metadata": {},
     "output_type": "execute_result"
    }
   ],
   "source": [
    "total_month_births = calc_counts(final_data, 1)\n",
    "total_month_births"
   ]
  },
  {
   "cell_type": "markdown",
   "metadata": {},
   "source": [
    "**Total births per dom**"
   ]
  },
  {
   "cell_type": "code",
   "execution_count": 83,
   "metadata": {
    "collapsed": false
   },
   "outputs": [
    {
     "data": {
      "text/plain": [
       "{1: 2760350,\n",
       " 2: 2794016,\n",
       " 3: 2808740,\n",
       " 4: 2761441,\n",
       " 5: 2794079,\n",
       " 6: 2802351,\n",
       " 7: 2831672,\n",
       " 8: 2835775,\n",
       " 9: 2817897,\n",
       " 10: 2840733,\n",
       " 11: 2821260,\n",
       " 12: 2842163,\n",
       " 13: 2752336,\n",
       " 14: 2850695,\n",
       " 15: 2846776,\n",
       " 16: 2838432,\n",
       " 17: 2850928,\n",
       " 18: 2851472,\n",
       " 19: 2836179,\n",
       " 20: 2860735,\n",
       " 21: 2857502,\n",
       " 22: 2833601,\n",
       " 23: 2793161,\n",
       " 24: 2751434,\n",
       " 25: 2715173,\n",
       " 26: 2752609,\n",
       " 27: 2797042,\n",
       " 28: 2822641,\n",
       " 29: 2642868,\n",
       " 30: 2589769,\n",
       " 31: 1595299}"
      ]
     },
     "execution_count": 83,
     "metadata": {},
     "output_type": "execute_result"
    }
   ],
   "source": [
    "total_dom_births = calc_counts(final_data, 2)\n",
    "total_dom_births"
   ]
  },
  {
   "cell_type": "markdown",
   "metadata": {},
   "source": [
    "** Total births per dow**"
   ]
  },
  {
   "cell_type": "code",
   "execution_count": 84,
   "metadata": {
    "collapsed": false
   },
   "outputs": [
    {
     "data": {
      "text/plain": [
       "{1: 12696731,\n",
       " 2: 14044930,\n",
       " 3: 13803846,\n",
       " 4: 13717707,\n",
       " 5: 13497703,\n",
       " 6: 9433618,\n",
       " 7: 8354594}"
      ]
     },
     "execution_count": 84,
     "metadata": {},
     "output_type": "execute_result"
    }
   ],
   "source": [
    "total_dow_births = calc_counts(final_data, 3)\n",
    "total_dow_births"
   ]
  },
  {
   "cell_type": "markdown",
   "metadata": {},
   "source": [
    "# What are the min and max births?\n",
    "per year, month, dom, dow\n",
    "\n",
    "**This function calculates and returns the min and the max for any variable.**"
   ]
  },
  {
   "cell_type": "code",
   "execution_count": 85,
   "metadata": {
    "collapsed": false
   },
   "outputs": [],
   "source": [
    "def max_min(dic):\n",
    "    values_list = dic.values()\n",
    "    max_value = max(values_list)\n",
    "    min_value = min(values_list)\n",
    "    max_key = next(key for key, value in dic.items() if value == max_value)\n",
    "    min_key = next(key for key, value in dic.items() if value == min_value)\n",
    "    return(max_key, max_value, min_key, min_value)"
   ]
  },
  {
   "cell_type": "markdown",
   "metadata": {},
   "source": [
    "**There we're about 500k more births in 2007 than in 1997**"
   ]
  },
  {
   "cell_type": "code",
   "execution_count": 86,
   "metadata": {
    "collapsed": false
   },
   "outputs": [
    {
     "data": {
      "text/plain": [
       "(2007, 4380784, 1997, 3880894)"
      ]
     },
     "execution_count": 86,
     "metadata": {},
     "output_type": "execute_result"
    }
   ],
   "source": [
    "max_min_annual_births = max_min(total_year_births)\n",
    "max_min_annual_births"
   ]
  },
  {
   "cell_type": "markdown",
   "metadata": {},
   "source": [
    "**February has the fewests births per month. 11 Million fewer than August, which has the most births per month.**"
   ]
  },
  {
   "cell_type": "code",
   "execution_count": 87,
   "metadata": {
    "collapsed": false
   },
   "outputs": [
    {
     "data": {
      "text/plain": [
       "(8, 7610244, 2, 6499459)"
      ]
     },
     "execution_count": 87,
     "metadata": {},
     "output_type": "execute_result"
    }
   ],
   "source": [
    "max_min_month_births = max_min(total_month_births)\n",
    "max_min_month_births"
   ]
  },
  {
   "cell_type": "code",
   "execution_count": 88,
   "metadata": {
    "collapsed": false
   },
   "outputs": [],
   "source": [
    "max_min_dom_births\n",
    "max_min_dom_births = max_min(total_dom_births)"
   ]
  },
  {
   "cell_type": "markdown",
   "metadata": {},
   "source": [
    "**14 Million births on Tuesdays. 8.3 Million births on Sundays.**"
   ]
  },
  {
   "cell_type": "code",
   "execution_count": 89,
   "metadata": {
    "collapsed": false
   },
   "outputs": [
    {
     "data": {
      "text/plain": [
       "(2, 14044930, 7, 8354594)"
      ]
     },
     "execution_count": 89,
     "metadata": {},
     "output_type": "execute_result"
    }
   ],
   "source": [
    "max_min_dow_births = max_min(total_dow_births)\n",
    "max_min_dow_births"
   ]
  },
  {
   "cell_type": "markdown",
   "metadata": {},
   "source": [
    "# How have the number of births changed over time accross these variables?"
   ]
  },
  {
   "cell_type": "code",
   "execution_count": 90,
   "metadata": {
    "collapsed": false
   },
   "outputs": [],
   "source": [
    "def calc_counts2(data,column,val): \n",
    "    births = {} \n",
    "    for element in data: \n",
    "        if element[0] in births and element[column] == val: \n",
    "            births[element[0]] += element[4]\n",
    "        else:\n",
    "            if element[0] not in births and element[column] == val: \n",
    "                births[element[0]] = element[4] \n",
    "    return(births) \n",
    "def calc_diff(input_dict):\n",
    "    differences = {}\n",
    "    for i in range(1994,2013):\n",
    "        differences[i+1] = round(((input_dict[i+1]-input_dict[i])/input_dict[i]*100),2)\n",
    "    return differences"
   ]
  },
  {
   "cell_type": "markdown",
   "metadata": {},
   "source": [
    "Percent change in **total** births per year"
   ]
  },
  {
   "cell_type": "code",
   "execution_count": 91,
   "metadata": {
    "collapsed": false
   },
   "outputs": [
    {
     "data": {
      "text/plain": [
       "{1995: -1.35,\n",
       " 1996: -0.21,\n",
       " 1997: -0.27,\n",
       " 1998: 1.56,\n",
       " 1999: 0.45,\n",
       " 2000: 3.65,\n",
       " 2001: -0.87,\n",
       " 2002: -0.19,\n",
       " 2003: 1.63,\n",
       " 2004: 1.46,\n",
       " 2005: 0.6,\n",
       " 2006: 2.93,\n",
       " 2007: 1.05,\n",
       " 2008: -1.6,\n",
       " 2009: -2.78,\n",
       " 2010: -3.22,\n",
       " 2011: -1.21,\n",
       " 2012: -0.15,\n",
       " 2013: -0.69}"
      ]
     },
     "execution_count": 91,
     "metadata": {},
     "output_type": "execute_result"
    }
   ],
   "source": [
    "change_annual = calc_diff(total_year_births)\n",
    "change_annual"
   ]
  },
  {
   "cell_type": "markdown",
   "metadata": {},
   "source": [
    "Percent change in **February** births per year"
   ]
  },
  {
   "cell_type": "code",
   "execution_count": 92,
   "metadata": {
    "collapsed": false
   },
   "outputs": [
    {
     "data": {
      "text/plain": [
       "{1995: -2.07,\n",
       " 1996: 2.26,\n",
       " 1997: -3.39,\n",
       " 1998: 2.46,\n",
       " 1999: -0.38,\n",
       " 2000: 7.78,\n",
       " 2001: -4.38,\n",
       " 2002: 0.09,\n",
       " 2003: 1.0,\n",
       " 2004: 3.66,\n",
       " 2005: -2.01,\n",
       " 2006: 3.03,\n",
       " 2007: 2.21,\n",
       " 2008: 3.54,\n",
       " 2009: -6.47,\n",
       " 2010: -4.59,\n",
       " 2011: -1.46,\n",
       " 2012: 2.1,\n",
       " 2013: -4.34}"
      ]
     },
     "execution_count": 92,
     "metadata": {},
     "output_type": "execute_result"
    }
   ],
   "source": [
    "change_february_births = calc_diff(calc_counts2(final_data,1,2))\n",
    "change_february_births"
   ]
  },
  {
   "cell_type": "markdown",
   "metadata": {},
   "source": [
    "Percent change in **first of month** births per year"
   ]
  },
  {
   "cell_type": "code",
   "execution_count": 93,
   "metadata": {
    "collapsed": false
   },
   "outputs": [
    {
     "data": {
      "text/plain": [
       "{1995: -3.41,\n",
       " 1996: -1.87,\n",
       " 1997: -3.78,\n",
       " 1998: 2.97,\n",
       " 1999: 4.86,\n",
       " 2000: 4.26,\n",
       " 2001: -5.92,\n",
       " 2002: 1.44,\n",
       " 2003: -3.02,\n",
       " 2004: 6.64,\n",
       " 2005: 6.28,\n",
       " 2006: -0.32,\n",
       " 2007: -3.41,\n",
       " 2008: -1.53,\n",
       " 2009: -1.99,\n",
       " 2010: 2.59,\n",
       " 2011: 1.75,\n",
       " 2012: -8.7,\n",
       " 2013: 1.88}"
      ]
     },
     "execution_count": 93,
     "metadata": {},
     "output_type": "execute_result"
    }
   ],
   "source": [
    "change_first_of_month_births = calc_diff(calc_counts2(final_data,2,1))\n",
    "change_first_of_month_births"
   ]
  },
  {
   "cell_type": "markdown",
   "metadata": {},
   "source": [
    "Percent change in **Sunday** births per year"
   ]
  },
  {
   "cell_type": "code",
   "execution_count": 94,
   "metadata": {
    "collapsed": false
   },
   "outputs": [
    {
     "data": {
      "text/plain": [
       "{1995: -0.69,\n",
       " 1996: -2.92,\n",
       " 1997: -2.14,\n",
       " 1998: 0.66,\n",
       " 1999: -1.26,\n",
       " 2000: 4.63,\n",
       " 2001: -4.72,\n",
       " 2002: -1.56,\n",
       " 2003: 0.42,\n",
       " 2004: -0.09,\n",
       " 2005: -1.77,\n",
       " 2006: 4.72,\n",
       " 2007: -0.87,\n",
       " 2008: -1.85,\n",
       " 2009: -3.11,\n",
       " 2010: -2.66,\n",
       " 2011: -0.97,\n",
       " 2012: 3.09,\n",
       " 2013: -1.26}"
      ]
     },
     "execution_count": 94,
     "metadata": {},
     "output_type": "execute_result"
    }
   ],
   "source": [
    "change_sunday_births = calc_diff(calc_counts2(final_data,3,7))\n",
    "change_sunday_births"
   ]
  }
 ],
 "metadata": {
  "anaconda-cloud": {},
  "kernelspec": {
   "display_name": "Python 3",
   "language": "python",
   "name": "python3"
  },
  "language_info": {
   "codemirror_mode": {
    "name": "ipython",
    "version": 3
   },
   "file_extension": ".py",
   "mimetype": "text/x-python",
   "name": "python",
   "nbconvert_exporter": "python",
   "pygments_lexer": "ipython3",
   "version": "3.4.3"
  }
 },
 "nbformat": 4,
 "nbformat_minor": 1
}
